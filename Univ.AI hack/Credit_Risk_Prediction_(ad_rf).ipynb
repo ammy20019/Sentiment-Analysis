{
  "nbformat": 4,
  "nbformat_minor": 0,
  "metadata": {
    "kernelspec": {
      "display_name": "Python 3",
      "language": "python",
      "name": "python3"
    },
    "language_info": {
      "codemirror_mode": {
        "name": "ipython",
        "version": 3
      },
      "file_extension": ".py",
      "mimetype": "text/x-python",
      "name": "python",
      "nbconvert_exporter": "python",
      "pygments_lexer": "ipython3",
      "version": "3.7.8rc1"
    },
    "colab": {
      "name": "Credit_Risk_Prediction_(ad_rf).ipynb",
      "provenance": [],
      "toc_visible": true
    }
  },
  "cells": [
    {
      "cell_type": "markdown",
      "metadata": {
        "id": "Jh52h6whr1dH"
      },
      "source": [
        "\n",
        "# Import Python libraries."
      ]
    },
    {
      "cell_type": "code",
      "metadata": {
        "id": "ZkHkweYqr1dR"
      },
      "source": [
        "import pandas as pd\n",
        "import numpy as np\n",
        "import matplotlib.pyplot as plt\n",
        "import xgboost as xgb\n",
        "from sklearn.svm import SVC\n",
        "import matplotlib.pyplot as plt\n",
        "from sklearn import preprocessing\n",
        "from sklearn.pipeline import make_pipeline\n",
        "from sklearn.feature_selection import chi2\n",
        "from sklearn.tree import DecisionTreeClassifier\n",
        "from sklearn.ensemble import StackingClassifier\n",
        "from sklearn.feature_selection import SelectKBest\n",
        "from sklearn.neighbors import KNeighborsClassifier\n",
        "from sklearn.linear_model import LogisticRegression\n",
        "from sklearn.calibration import CalibratedClassifierCV\n",
        "from sklearn.naive_bayes import MultinomialNB,GaussianNB\n",
        "from sklearn.experimental import enable_iterative_imputer\n",
        "from sklearn.impute import KNNImputer,SimpleImputer,IterativeImputer\n",
        "from sklearn.preprocessing import LabelEncoder,normalize,LabelBinarizer,OneHotEncoder\n",
        "from sklearn.metrics import confusion_matrix,classification_report, roc_auc_score,accuracy_score\n",
        "from sklearn.model_selection import train_test_split ,GridSearchCV ,cross_val_predict,cross_val_score\n",
        "from sklearn.ensemble import RandomForestClassifier,StackingClassifier,AdaBoostClassifier,BaggingClassifier,GradientBoostingClassifier"
      ],
      "execution_count": 1,
      "outputs": []
    },
    {
      "cell_type": "markdown",
      "metadata": {
        "id": "UEzNedubr1dT"
      },
      "source": [
        "# Import Datasets"
      ]
    },
    {
      "cell_type": "code",
      "metadata": {
        "colab": {
          "base_uri": "https://localhost:8080/",
          "height": 444
        },
        "id": "PYK8e6kNr1dU",
        "outputId": "be130c09-0e31-4aaf-ef2c-c0f7695aa551"
      },
      "source": [
        "train_data = pd.read_csv(r\"https://raw.githubusercontent.com/ammy20019/Projects/main/Univ.AI%20hack/Training%20Data.csv\")\n",
        "test_data = pd.read_csv(r\"https://raw.githubusercontent.com/ammy20019/Projects/main/Univ.AI%20hack/Test%20Data.csv\")\n",
        "train_data\n"
      ],
      "execution_count": 2,
      "outputs": [
        {
          "output_type": "execute_result",
          "data": {
            "text/html": [
              "<div>\n",
              "<style scoped>\n",
              "    .dataframe tbody tr th:only-of-type {\n",
              "        vertical-align: middle;\n",
              "    }\n",
              "\n",
              "    .dataframe tbody tr th {\n",
              "        vertical-align: top;\n",
              "    }\n",
              "\n",
              "    .dataframe thead th {\n",
              "        text-align: right;\n",
              "    }\n",
              "</style>\n",
              "<table border=\"1\" class=\"dataframe\">\n",
              "  <thead>\n",
              "    <tr style=\"text-align: right;\">\n",
              "      <th></th>\n",
              "      <th>Id</th>\n",
              "      <th>income</th>\n",
              "      <th>age</th>\n",
              "      <th>experience</th>\n",
              "      <th>married</th>\n",
              "      <th>house_ownership</th>\n",
              "      <th>car_ownership</th>\n",
              "      <th>profession</th>\n",
              "      <th>city</th>\n",
              "      <th>state</th>\n",
              "      <th>current_job_years</th>\n",
              "      <th>current_house_years</th>\n",
              "      <th>risk_flag</th>\n",
              "    </tr>\n",
              "  </thead>\n",
              "  <tbody>\n",
              "    <tr>\n",
              "      <th>0</th>\n",
              "      <td>1</td>\n",
              "      <td>1303835</td>\n",
              "      <td>23</td>\n",
              "      <td>3</td>\n",
              "      <td>single</td>\n",
              "      <td>rented</td>\n",
              "      <td>no</td>\n",
              "      <td>Mechanical_engineer</td>\n",
              "      <td>Rewa</td>\n",
              "      <td>Madhya_Pradesh</td>\n",
              "      <td>3</td>\n",
              "      <td>13</td>\n",
              "      <td>0</td>\n",
              "    </tr>\n",
              "    <tr>\n",
              "      <th>1</th>\n",
              "      <td>2</td>\n",
              "      <td>7574516</td>\n",
              "      <td>40</td>\n",
              "      <td>10</td>\n",
              "      <td>single</td>\n",
              "      <td>rented</td>\n",
              "      <td>no</td>\n",
              "      <td>Software_Developer</td>\n",
              "      <td>Parbhani</td>\n",
              "      <td>Maharashtra</td>\n",
              "      <td>9</td>\n",
              "      <td>13</td>\n",
              "      <td>0</td>\n",
              "    </tr>\n",
              "    <tr>\n",
              "      <th>2</th>\n",
              "      <td>3</td>\n",
              "      <td>3991815</td>\n",
              "      <td>66</td>\n",
              "      <td>4</td>\n",
              "      <td>married</td>\n",
              "      <td>rented</td>\n",
              "      <td>no</td>\n",
              "      <td>Technical_writer</td>\n",
              "      <td>Alappuzha</td>\n",
              "      <td>Kerala</td>\n",
              "      <td>4</td>\n",
              "      <td>10</td>\n",
              "      <td>0</td>\n",
              "    </tr>\n",
              "    <tr>\n",
              "      <th>3</th>\n",
              "      <td>4</td>\n",
              "      <td>6256451</td>\n",
              "      <td>41</td>\n",
              "      <td>2</td>\n",
              "      <td>single</td>\n",
              "      <td>rented</td>\n",
              "      <td>yes</td>\n",
              "      <td>Software_Developer</td>\n",
              "      <td>Bhubaneswar</td>\n",
              "      <td>Odisha</td>\n",
              "      <td>2</td>\n",
              "      <td>12</td>\n",
              "      <td>1</td>\n",
              "    </tr>\n",
              "    <tr>\n",
              "      <th>4</th>\n",
              "      <td>5</td>\n",
              "      <td>5768871</td>\n",
              "      <td>47</td>\n",
              "      <td>11</td>\n",
              "      <td>single</td>\n",
              "      <td>rented</td>\n",
              "      <td>no</td>\n",
              "      <td>Civil_servant</td>\n",
              "      <td>Tiruchirappalli[10]</td>\n",
              "      <td>Tamil_Nadu</td>\n",
              "      <td>3</td>\n",
              "      <td>14</td>\n",
              "      <td>1</td>\n",
              "    </tr>\n",
              "    <tr>\n",
              "      <th>...</th>\n",
              "      <td>...</td>\n",
              "      <td>...</td>\n",
              "      <td>...</td>\n",
              "      <td>...</td>\n",
              "      <td>...</td>\n",
              "      <td>...</td>\n",
              "      <td>...</td>\n",
              "      <td>...</td>\n",
              "      <td>...</td>\n",
              "      <td>...</td>\n",
              "      <td>...</td>\n",
              "      <td>...</td>\n",
              "      <td>...</td>\n",
              "    </tr>\n",
              "    <tr>\n",
              "      <th>251995</th>\n",
              "      <td>251996</td>\n",
              "      <td>8154883</td>\n",
              "      <td>43</td>\n",
              "      <td>13</td>\n",
              "      <td>single</td>\n",
              "      <td>rented</td>\n",
              "      <td>no</td>\n",
              "      <td>Surgeon</td>\n",
              "      <td>Kolkata</td>\n",
              "      <td>West_Bengal</td>\n",
              "      <td>6</td>\n",
              "      <td>11</td>\n",
              "      <td>0</td>\n",
              "    </tr>\n",
              "    <tr>\n",
              "      <th>251996</th>\n",
              "      <td>251997</td>\n",
              "      <td>2843572</td>\n",
              "      <td>26</td>\n",
              "      <td>10</td>\n",
              "      <td>single</td>\n",
              "      <td>rented</td>\n",
              "      <td>no</td>\n",
              "      <td>Army_officer</td>\n",
              "      <td>Rewa</td>\n",
              "      <td>Madhya_Pradesh</td>\n",
              "      <td>6</td>\n",
              "      <td>11</td>\n",
              "      <td>0</td>\n",
              "    </tr>\n",
              "    <tr>\n",
              "      <th>251997</th>\n",
              "      <td>251998</td>\n",
              "      <td>4522448</td>\n",
              "      <td>46</td>\n",
              "      <td>7</td>\n",
              "      <td>single</td>\n",
              "      <td>rented</td>\n",
              "      <td>no</td>\n",
              "      <td>Design_Engineer</td>\n",
              "      <td>Kalyan-Dombivli</td>\n",
              "      <td>Maharashtra</td>\n",
              "      <td>7</td>\n",
              "      <td>12</td>\n",
              "      <td>0</td>\n",
              "    </tr>\n",
              "    <tr>\n",
              "      <th>251998</th>\n",
              "      <td>251999</td>\n",
              "      <td>6507128</td>\n",
              "      <td>45</td>\n",
              "      <td>0</td>\n",
              "      <td>single</td>\n",
              "      <td>rented</td>\n",
              "      <td>no</td>\n",
              "      <td>Graphic_Designer</td>\n",
              "      <td>Pondicherry</td>\n",
              "      <td>Puducherry</td>\n",
              "      <td>0</td>\n",
              "      <td>10</td>\n",
              "      <td>0</td>\n",
              "    </tr>\n",
              "    <tr>\n",
              "      <th>251999</th>\n",
              "      <td>252000</td>\n",
              "      <td>9070230</td>\n",
              "      <td>70</td>\n",
              "      <td>17</td>\n",
              "      <td>single</td>\n",
              "      <td>rented</td>\n",
              "      <td>no</td>\n",
              "      <td>Statistician</td>\n",
              "      <td>Avadi</td>\n",
              "      <td>Tamil_Nadu</td>\n",
              "      <td>7</td>\n",
              "      <td>11</td>\n",
              "      <td>0</td>\n",
              "    </tr>\n",
              "  </tbody>\n",
              "</table>\n",
              "<p>252000 rows × 13 columns</p>\n",
              "</div>"
            ],
            "text/plain": [
              "            Id   income  age  ...  current_job_years current_house_years risk_flag\n",
              "0            1  1303835   23  ...                  3                  13         0\n",
              "1            2  7574516   40  ...                  9                  13         0\n",
              "2            3  3991815   66  ...                  4                  10         0\n",
              "3            4  6256451   41  ...                  2                  12         1\n",
              "4            5  5768871   47  ...                  3                  14         1\n",
              "...        ...      ...  ...  ...                ...                 ...       ...\n",
              "251995  251996  8154883   43  ...                  6                  11         0\n",
              "251996  251997  2843572   26  ...                  6                  11         0\n",
              "251997  251998  4522448   46  ...                  7                  12         0\n",
              "251998  251999  6507128   45  ...                  0                  10         0\n",
              "251999  252000  9070230   70  ...                  7                  11         0\n",
              "\n",
              "[252000 rows x 13 columns]"
            ]
          },
          "metadata": {
            "tags": []
          },
          "execution_count": 2
        }
      ]
    },
    {
      "cell_type": "code",
      "metadata": {
        "colab": {
          "base_uri": "https://localhost:8080/",
          "height": 565
        },
        "id": "7bLbzlRNr1dV",
        "outputId": "19660394-615c-4774-c07c-0d90144078d4"
      },
      "source": [
        "test_data"
      ],
      "execution_count": 3,
      "outputs": [
        {
          "output_type": "execute_result",
          "data": {
            "text/html": [
              "<div>\n",
              "<style scoped>\n",
              "    .dataframe tbody tr th:only-of-type {\n",
              "        vertical-align: middle;\n",
              "    }\n",
              "\n",
              "    .dataframe tbody tr th {\n",
              "        vertical-align: top;\n",
              "    }\n",
              "\n",
              "    .dataframe thead th {\n",
              "        text-align: right;\n",
              "    }\n",
              "</style>\n",
              "<table border=\"1\" class=\"dataframe\">\n",
              "  <thead>\n",
              "    <tr style=\"text-align: right;\">\n",
              "      <th></th>\n",
              "      <th>id</th>\n",
              "      <th>income</th>\n",
              "      <th>age</th>\n",
              "      <th>experience</th>\n",
              "      <th>married</th>\n",
              "      <th>house_ownership</th>\n",
              "      <th>car_ownership</th>\n",
              "      <th>profession</th>\n",
              "      <th>city</th>\n",
              "      <th>state</th>\n",
              "      <th>current_job_years</th>\n",
              "      <th>current_house_years</th>\n",
              "      <th>risk_flag</th>\n",
              "    </tr>\n",
              "  </thead>\n",
              "  <tbody>\n",
              "    <tr>\n",
              "      <th>0</th>\n",
              "      <td>1</td>\n",
              "      <td>7393090</td>\n",
              "      <td>59</td>\n",
              "      <td>19</td>\n",
              "      <td>single</td>\n",
              "      <td>rented</td>\n",
              "      <td>no</td>\n",
              "      <td>Geologist</td>\n",
              "      <td>Malda</td>\n",
              "      <td>West Bengal</td>\n",
              "      <td>4</td>\n",
              "      <td>13</td>\n",
              "      <td>NaN</td>\n",
              "    </tr>\n",
              "    <tr>\n",
              "      <th>1</th>\n",
              "      <td>2</td>\n",
              "      <td>1215004</td>\n",
              "      <td>25</td>\n",
              "      <td>5</td>\n",
              "      <td>single</td>\n",
              "      <td>rented</td>\n",
              "      <td>no</td>\n",
              "      <td>Firefighter</td>\n",
              "      <td>Jalna</td>\n",
              "      <td>Maharashtra</td>\n",
              "      <td>5</td>\n",
              "      <td>10</td>\n",
              "      <td>NaN</td>\n",
              "    </tr>\n",
              "    <tr>\n",
              "      <th>2</th>\n",
              "      <td>3</td>\n",
              "      <td>8901342</td>\n",
              "      <td>50</td>\n",
              "      <td>12</td>\n",
              "      <td>single</td>\n",
              "      <td>rented</td>\n",
              "      <td>no</td>\n",
              "      <td>Lawyer</td>\n",
              "      <td>Thane</td>\n",
              "      <td>Maharashtra</td>\n",
              "      <td>9</td>\n",
              "      <td>14</td>\n",
              "      <td>NaN</td>\n",
              "    </tr>\n",
              "    <tr>\n",
              "      <th>3</th>\n",
              "      <td>4</td>\n",
              "      <td>1944421</td>\n",
              "      <td>49</td>\n",
              "      <td>9</td>\n",
              "      <td>married</td>\n",
              "      <td>rented</td>\n",
              "      <td>yes</td>\n",
              "      <td>Analyst</td>\n",
              "      <td>Latur</td>\n",
              "      <td>Maharashtra</td>\n",
              "      <td>3</td>\n",
              "      <td>12</td>\n",
              "      <td>NaN</td>\n",
              "    </tr>\n",
              "    <tr>\n",
              "      <th>4</th>\n",
              "      <td>5</td>\n",
              "      <td>13429</td>\n",
              "      <td>25</td>\n",
              "      <td>18</td>\n",
              "      <td>single</td>\n",
              "      <td>rented</td>\n",
              "      <td>yes</td>\n",
              "      <td>Comedian</td>\n",
              "      <td>Berhampore</td>\n",
              "      <td>West Bengal</td>\n",
              "      <td>13</td>\n",
              "      <td>11</td>\n",
              "      <td>NaN</td>\n",
              "    </tr>\n",
              "    <tr>\n",
              "      <th>...</th>\n",
              "      <td>...</td>\n",
              "      <td>...</td>\n",
              "      <td>...</td>\n",
              "      <td>...</td>\n",
              "      <td>...</td>\n",
              "      <td>...</td>\n",
              "      <td>...</td>\n",
              "      <td>...</td>\n",
              "      <td>...</td>\n",
              "      <td>...</td>\n",
              "      <td>...</td>\n",
              "      <td>...</td>\n",
              "      <td>...</td>\n",
              "    </tr>\n",
              "    <tr>\n",
              "      <th>27995</th>\n",
              "      <td>27996</td>\n",
              "      <td>9955481</td>\n",
              "      <td>57</td>\n",
              "      <td>13</td>\n",
              "      <td>single</td>\n",
              "      <td>rented</td>\n",
              "      <td>no</td>\n",
              "      <td>Statistician</td>\n",
              "      <td>Eluru[25]</td>\n",
              "      <td>Andhra Pradesh</td>\n",
              "      <td>5</td>\n",
              "      <td>10</td>\n",
              "      <td>NaN</td>\n",
              "    </tr>\n",
              "    <tr>\n",
              "      <th>27996</th>\n",
              "      <td>27997</td>\n",
              "      <td>2917765</td>\n",
              "      <td>47</td>\n",
              "      <td>9</td>\n",
              "      <td>single</td>\n",
              "      <td>rented</td>\n",
              "      <td>no</td>\n",
              "      <td>Technical writer</td>\n",
              "      <td>Ratlam</td>\n",
              "      <td>Madhya Pradesh</td>\n",
              "      <td>9</td>\n",
              "      <td>14</td>\n",
              "      <td>NaN</td>\n",
              "    </tr>\n",
              "    <tr>\n",
              "      <th>27997</th>\n",
              "      <td>27998</td>\n",
              "      <td>8082415</td>\n",
              "      <td>24</td>\n",
              "      <td>5</td>\n",
              "      <td>single</td>\n",
              "      <td>rented</td>\n",
              "      <td>no</td>\n",
              "      <td>Lawyer</td>\n",
              "      <td>Mira-Bhayandar</td>\n",
              "      <td>Maharashtra</td>\n",
              "      <td>4</td>\n",
              "      <td>13</td>\n",
              "      <td>NaN</td>\n",
              "    </tr>\n",
              "    <tr>\n",
              "      <th>27998</th>\n",
              "      <td>27999</td>\n",
              "      <td>9474180</td>\n",
              "      <td>51</td>\n",
              "      <td>13</td>\n",
              "      <td>single</td>\n",
              "      <td>rented</td>\n",
              "      <td>yes</td>\n",
              "      <td>Chartered Accountant</td>\n",
              "      <td>Bhilai</td>\n",
              "      <td>Chhattisgarh</td>\n",
              "      <td>13</td>\n",
              "      <td>14</td>\n",
              "      <td>NaN</td>\n",
              "    </tr>\n",
              "    <tr>\n",
              "      <th>27999</th>\n",
              "      <td>28000</td>\n",
              "      <td>9250350</td>\n",
              "      <td>42</td>\n",
              "      <td>9</td>\n",
              "      <td>single</td>\n",
              "      <td>rented</td>\n",
              "      <td>no</td>\n",
              "      <td>Chef</td>\n",
              "      <td>Navi Mumbai</td>\n",
              "      <td>Maharashtra</td>\n",
              "      <td>4</td>\n",
              "      <td>10</td>\n",
              "      <td>NaN</td>\n",
              "    </tr>\n",
              "  </tbody>\n",
              "</table>\n",
              "<p>28000 rows × 13 columns</p>\n",
              "</div>"
            ],
            "text/plain": [
              "          id   income  age  ...  current_job_years current_house_years risk_flag\n",
              "0          1  7393090   59  ...                  4                  13       NaN\n",
              "1          2  1215004   25  ...                  5                  10       NaN\n",
              "2          3  8901342   50  ...                  9                  14       NaN\n",
              "3          4  1944421   49  ...                  3                  12       NaN\n",
              "4          5    13429   25  ...                 13                  11       NaN\n",
              "...      ...      ...  ...  ...                ...                 ...       ...\n",
              "27995  27996  9955481   57  ...                  5                  10       NaN\n",
              "27996  27997  2917765   47  ...                  9                  14       NaN\n",
              "27997  27998  8082415   24  ...                  4                  13       NaN\n",
              "27998  27999  9474180   51  ...                 13                  14       NaN\n",
              "27999  28000  9250350   42  ...                  4                  10       NaN\n",
              "\n",
              "[28000 rows x 13 columns]"
            ]
          },
          "metadata": {
            "tags": []
          },
          "execution_count": 3
        }
      ]
    },
    {
      "cell_type": "markdown",
      "metadata": {
        "id": "KfcP1Pu6r1dX"
      },
      "source": [
        "# Check how train dataset looks like."
      ]
    },
    {
      "cell_type": "code",
      "metadata": {
        "colab": {
          "base_uri": "https://localhost:8080/",
          "height": 226
        },
        "id": "yqCJGi2zr1dY",
        "outputId": "694cc74e-a7fd-4c08-d576-7f4e76305e99"
      },
      "source": [
        "train_data.head()"
      ],
      "execution_count": 4,
      "outputs": [
        {
          "output_type": "execute_result",
          "data": {
            "text/html": [
              "<div>\n",
              "<style scoped>\n",
              "    .dataframe tbody tr th:only-of-type {\n",
              "        vertical-align: middle;\n",
              "    }\n",
              "\n",
              "    .dataframe tbody tr th {\n",
              "        vertical-align: top;\n",
              "    }\n",
              "\n",
              "    .dataframe thead th {\n",
              "        text-align: right;\n",
              "    }\n",
              "</style>\n",
              "<table border=\"1\" class=\"dataframe\">\n",
              "  <thead>\n",
              "    <tr style=\"text-align: right;\">\n",
              "      <th></th>\n",
              "      <th>Id</th>\n",
              "      <th>income</th>\n",
              "      <th>age</th>\n",
              "      <th>experience</th>\n",
              "      <th>married</th>\n",
              "      <th>house_ownership</th>\n",
              "      <th>car_ownership</th>\n",
              "      <th>profession</th>\n",
              "      <th>city</th>\n",
              "      <th>state</th>\n",
              "      <th>current_job_years</th>\n",
              "      <th>current_house_years</th>\n",
              "      <th>risk_flag</th>\n",
              "    </tr>\n",
              "  </thead>\n",
              "  <tbody>\n",
              "    <tr>\n",
              "      <th>0</th>\n",
              "      <td>1</td>\n",
              "      <td>1303835</td>\n",
              "      <td>23</td>\n",
              "      <td>3</td>\n",
              "      <td>single</td>\n",
              "      <td>rented</td>\n",
              "      <td>no</td>\n",
              "      <td>Mechanical_engineer</td>\n",
              "      <td>Rewa</td>\n",
              "      <td>Madhya_Pradesh</td>\n",
              "      <td>3</td>\n",
              "      <td>13</td>\n",
              "      <td>0</td>\n",
              "    </tr>\n",
              "    <tr>\n",
              "      <th>1</th>\n",
              "      <td>2</td>\n",
              "      <td>7574516</td>\n",
              "      <td>40</td>\n",
              "      <td>10</td>\n",
              "      <td>single</td>\n",
              "      <td>rented</td>\n",
              "      <td>no</td>\n",
              "      <td>Software_Developer</td>\n",
              "      <td>Parbhani</td>\n",
              "      <td>Maharashtra</td>\n",
              "      <td>9</td>\n",
              "      <td>13</td>\n",
              "      <td>0</td>\n",
              "    </tr>\n",
              "    <tr>\n",
              "      <th>2</th>\n",
              "      <td>3</td>\n",
              "      <td>3991815</td>\n",
              "      <td>66</td>\n",
              "      <td>4</td>\n",
              "      <td>married</td>\n",
              "      <td>rented</td>\n",
              "      <td>no</td>\n",
              "      <td>Technical_writer</td>\n",
              "      <td>Alappuzha</td>\n",
              "      <td>Kerala</td>\n",
              "      <td>4</td>\n",
              "      <td>10</td>\n",
              "      <td>0</td>\n",
              "    </tr>\n",
              "    <tr>\n",
              "      <th>3</th>\n",
              "      <td>4</td>\n",
              "      <td>6256451</td>\n",
              "      <td>41</td>\n",
              "      <td>2</td>\n",
              "      <td>single</td>\n",
              "      <td>rented</td>\n",
              "      <td>yes</td>\n",
              "      <td>Software_Developer</td>\n",
              "      <td>Bhubaneswar</td>\n",
              "      <td>Odisha</td>\n",
              "      <td>2</td>\n",
              "      <td>12</td>\n",
              "      <td>1</td>\n",
              "    </tr>\n",
              "    <tr>\n",
              "      <th>4</th>\n",
              "      <td>5</td>\n",
              "      <td>5768871</td>\n",
              "      <td>47</td>\n",
              "      <td>11</td>\n",
              "      <td>single</td>\n",
              "      <td>rented</td>\n",
              "      <td>no</td>\n",
              "      <td>Civil_servant</td>\n",
              "      <td>Tiruchirappalli[10]</td>\n",
              "      <td>Tamil_Nadu</td>\n",
              "      <td>3</td>\n",
              "      <td>14</td>\n",
              "      <td>1</td>\n",
              "    </tr>\n",
              "  </tbody>\n",
              "</table>\n",
              "</div>"
            ],
            "text/plain": [
              "   Id   income  age  ...  current_job_years current_house_years risk_flag\n",
              "0   1  1303835   23  ...                  3                  13         0\n",
              "1   2  7574516   40  ...                  9                  13         0\n",
              "2   3  3991815   66  ...                  4                  10         0\n",
              "3   4  6256451   41  ...                  2                  12         1\n",
              "4   5  5768871   47  ...                  3                  14         1\n",
              "\n",
              "[5 rows x 13 columns]"
            ]
          },
          "metadata": {
            "tags": []
          },
          "execution_count": 4
        }
      ]
    },
    {
      "cell_type": "markdown",
      "metadata": {
        "id": "74T-YHA_r1dY"
      },
      "source": [
        "# Convert datatype of selected fields."
      ]
    },
    {
      "cell_type": "code",
      "metadata": {
        "id": "Hvk7NqXGr1dZ"
      },
      "source": [
        "train_data[\"profession\"]=pd.factorize(train_data.profession)[0]\n",
        "train_data[\"city\"]=pd.factorize(train_data.city)[0]\n",
        "train_data[\"state\"]=pd.factorize(train_data.state)[0]\n",
        "train_data[\"married\"]=pd.factorize(train_data.married)[0]\n",
        "train_data[\"house_ownership\"]=pd.factorize(train_data.house_ownership)[0]\n",
        "train_data[\"car_ownership\"]=pd.factorize(train_data.car_ownership)[0]"
      ],
      "execution_count": 5,
      "outputs": []
    },
    {
      "cell_type": "code",
      "metadata": {
        "id": "x-85W6PPr1dZ"
      },
      "source": [
        "test_data[\"profession\"]=pd.factorize(test_data.profession)[0]\n",
        "test_data[\"city\"]=pd.factorize(test_data.city)[0]\n",
        "test_data[\"state\"]=pd.factorize(test_data.state)[0]\n",
        "test_data[\"married\"]=pd.factorize(test_data.married)[0]\n",
        "test_data[\"house_ownership\"]=pd.factorize(test_data.house_ownership)[0]\n",
        "test_data[\"car_ownership\"]=pd.factorize(test_data.car_ownership)[0]\n"
      ],
      "execution_count": 6,
      "outputs": []
    },
    {
      "cell_type": "code",
      "metadata": {
        "colab": {
          "base_uri": "https://localhost:8080/"
        },
        "id": "67rTzMFMr1db",
        "outputId": "d4fde4a6-f1d2-4ee8-bc62-77085feb6687"
      },
      "source": [
        "print(test_data)\n",
        "print(\"training data\")\n",
        "print(train_data)"
      ],
      "execution_count": 7,
      "outputs": [
        {
          "output_type": "stream",
          "text": [
            "          id   income  age  ...  current_job_years  current_house_years  risk_flag\n",
            "0          1  7393090   59  ...                  4                   13        NaN\n",
            "1          2  1215004   25  ...                  5                   10        NaN\n",
            "2          3  8901342   50  ...                  9                   14        NaN\n",
            "3          4  1944421   49  ...                  3                   12        NaN\n",
            "4          5    13429   25  ...                 13                   11        NaN\n",
            "...      ...      ...  ...  ...                ...                  ...        ...\n",
            "27995  27996  9955481   57  ...                  5                   10        NaN\n",
            "27996  27997  2917765   47  ...                  9                   14        NaN\n",
            "27997  27998  8082415   24  ...                  4                   13        NaN\n",
            "27998  27999  9474180   51  ...                 13                   14        NaN\n",
            "27999  28000  9250350   42  ...                  4                   10        NaN\n",
            "\n",
            "[28000 rows x 13 columns]\n",
            "training data\n",
            "            Id   income  age  ...  current_job_years  current_house_years  risk_flag\n",
            "0            1  1303835   23  ...                  3                   13          0\n",
            "1            2  7574516   40  ...                  9                   13          0\n",
            "2            3  3991815   66  ...                  4                   10          0\n",
            "3            4  6256451   41  ...                  2                   12          1\n",
            "4            5  5768871   47  ...                  3                   14          1\n",
            "...        ...      ...  ...  ...                ...                  ...        ...\n",
            "251995  251996  8154883   43  ...                  6                   11          0\n",
            "251996  251997  2843572   26  ...                  6                   11          0\n",
            "251997  251998  4522448   46  ...                  7                   12          0\n",
            "251998  251999  6507128   45  ...                  0                   10          0\n",
            "251999  252000  9070230   70  ...                  7                   11          0\n",
            "\n",
            "[252000 rows x 13 columns]\n"
          ],
          "name": "stdout"
        }
      ]
    },
    {
      "cell_type": "code",
      "metadata": {
        "id": "N5tz3ik6r1de"
      },
      "source": [
        "x=train_data.drop(\"risk_flag\",axis=1)\n",
        "y=train_data[\"risk_flag\"]\n",
        "x_train, x_test, y_train, y_test = train_test_split(x, y, test_size=0.2, random_state=100)"
      ],
      "execution_count": 8,
      "outputs": []
    },
    {
      "cell_type": "markdown",
      "metadata": {
        "id": "NIT28IBLr1df"
      },
      "source": [
        "# Drop unnamed field from train and test dataset."
      ]
    },
    {
      "cell_type": "code",
      "metadata": {
        "id": "ZZUTIn-Er1dg"
      },
      "source": [
        ""
      ],
      "execution_count": 8,
      "outputs": []
    },
    {
      "cell_type": "code",
      "metadata": {
        "scrolled": true,
        "id": "8SYaxdsLr1dg"
      },
      "source": [
        "# x_train_Unnamed  = X_train.pop(\"Unnamed: 0\")\n",
        "# x_test_Unnamed  = X_test.pop(\"Unnamed: 0\")\n"
      ],
      "execution_count": 9,
      "outputs": []
    },
    {
      "cell_type": "code",
      "metadata": {
        "scrolled": true,
        "colab": {
          "base_uri": "https://localhost:8080/",
          "height": 226
        },
        "id": "2qA3PkbYr1dh",
        "outputId": "dfe7a758-ab64-4fc3-8e55-f03f0b58ad17"
      },
      "source": [
        "x_train.head()"
      ],
      "execution_count": 10,
      "outputs": [
        {
          "output_type": "execute_result",
          "data": {
            "text/html": [
              "<div>\n",
              "<style scoped>\n",
              "    .dataframe tbody tr th:only-of-type {\n",
              "        vertical-align: middle;\n",
              "    }\n",
              "\n",
              "    .dataframe tbody tr th {\n",
              "        vertical-align: top;\n",
              "    }\n",
              "\n",
              "    .dataframe thead th {\n",
              "        text-align: right;\n",
              "    }\n",
              "</style>\n",
              "<table border=\"1\" class=\"dataframe\">\n",
              "  <thead>\n",
              "    <tr style=\"text-align: right;\">\n",
              "      <th></th>\n",
              "      <th>Id</th>\n",
              "      <th>income</th>\n",
              "      <th>age</th>\n",
              "      <th>experience</th>\n",
              "      <th>married</th>\n",
              "      <th>house_ownership</th>\n",
              "      <th>car_ownership</th>\n",
              "      <th>profession</th>\n",
              "      <th>city</th>\n",
              "      <th>state</th>\n",
              "      <th>current_job_years</th>\n",
              "      <th>current_house_years</th>\n",
              "    </tr>\n",
              "  </thead>\n",
              "  <tbody>\n",
              "    <tr>\n",
              "      <th>16638</th>\n",
              "      <td>16639</td>\n",
              "      <td>4149976</td>\n",
              "      <td>35</td>\n",
              "      <td>15</td>\n",
              "      <td>1</td>\n",
              "      <td>2</td>\n",
              "      <td>0</td>\n",
              "      <td>40</td>\n",
              "      <td>226</td>\n",
              "      <td>16</td>\n",
              "      <td>10</td>\n",
              "      <td>12</td>\n",
              "    </tr>\n",
              "    <tr>\n",
              "      <th>15918</th>\n",
              "      <td>15919</td>\n",
              "      <td>8758130</td>\n",
              "      <td>34</td>\n",
              "      <td>20</td>\n",
              "      <td>1</td>\n",
              "      <td>0</td>\n",
              "      <td>0</td>\n",
              "      <td>46</td>\n",
              "      <td>179</td>\n",
              "      <td>23</td>\n",
              "      <td>9</td>\n",
              "      <td>10</td>\n",
              "    </tr>\n",
              "    <tr>\n",
              "      <th>230828</th>\n",
              "      <td>230829</td>\n",
              "      <td>6459408</td>\n",
              "      <td>41</td>\n",
              "      <td>2</td>\n",
              "      <td>0</td>\n",
              "      <td>0</td>\n",
              "      <td>1</td>\n",
              "      <td>50</td>\n",
              "      <td>255</td>\n",
              "      <td>3</td>\n",
              "      <td>2</td>\n",
              "      <td>14</td>\n",
              "    </tr>\n",
              "    <tr>\n",
              "      <th>115577</th>\n",
              "      <td>115578</td>\n",
              "      <td>8419034</td>\n",
              "      <td>70</td>\n",
              "      <td>12</td>\n",
              "      <td>0</td>\n",
              "      <td>0</td>\n",
              "      <td>0</td>\n",
              "      <td>18</td>\n",
              "      <td>260</td>\n",
              "      <td>23</td>\n",
              "      <td>12</td>\n",
              "      <td>11</td>\n",
              "    </tr>\n",
              "    <tr>\n",
              "      <th>140367</th>\n",
              "      <td>140368</td>\n",
              "      <td>3939397</td>\n",
              "      <td>52</td>\n",
              "      <td>19</td>\n",
              "      <td>0</td>\n",
              "      <td>0</td>\n",
              "      <td>1</td>\n",
              "      <td>6</td>\n",
              "      <td>29</td>\n",
              "      <td>4</td>\n",
              "      <td>3</td>\n",
              "      <td>10</td>\n",
              "    </tr>\n",
              "  </tbody>\n",
              "</table>\n",
              "</div>"
            ],
            "text/plain": [
              "            Id   income  age  ...  state  current_job_years  current_house_years\n",
              "16638    16639  4149976   35  ...     16                 10                   12\n",
              "15918    15919  8758130   34  ...     23                  9                   10\n",
              "230828  230829  6459408   41  ...      3                  2                   14\n",
              "115577  115578  8419034   70  ...     23                 12                   11\n",
              "140367  140368  3939397   52  ...      4                  3                   10\n",
              "\n",
              "[5 rows x 12 columns]"
            ]
          },
          "metadata": {
            "tags": []
          },
          "execution_count": 10
        }
      ]
    },
    {
      "cell_type": "code",
      "metadata": {
        "id": "xgxVJY_qr1dh"
      },
      "source": [
        "def print_score(clf, X_train, X_test, y_train, y_test,c,i):\n",
        "    '''\n",
        "    v0.1 Follow the scikit learn library format in terms of input\n",
        "    print the accuracy score, classification report and confusion matrix of classifier\n",
        "    '''\n",
        "    #labels = ['True Neg','False Pos','False Neg','True Pos']\n",
        "    #labels = np.asarray(labels).reshape(2,2)\n",
        "    lb = LabelBinarizer()\n",
        "    lb.fit(y_train)\n",
        "    print(\"\\ntraining performance\\n\")\n",
        "    '''\n",
        "    training performance\n",
        "    '''\n",
        "    res = clf.predict(X_train)\n",
        "    print(\"Train Result:\\n\")\n",
        "    print(\"accuracy score: {0:.4f}\\n\".format(accuracy_score(y_train,res)))\n",
        "    print(\"Classification Report: \\n {}\\n\".format(classification_report(y_train,res)))\n",
        "    print(\"Confusion Matrix: \\n {}\\n\".format(confusion_matrix(y_train,res)))\n",
        "    plt.figure(i)\n",
        "    plt.title(\"{} training\".format(c), fontsize =20)\n",
        "    sns.heatmap(confusion_matrix(y_train,res), annot=True,cmap=\"YlGnBu\")\n",
        "    print(\"ROC AUC: {0:.4f}\\n\".format(roc_auc_score(lb.transform(y_train), lb.transform(res))))\n",
        "        \n",
        "    print(\"\\ntest performance\\n\")\n",
        "    '''\n",
        "    test performance\n",
        "    '''\n",
        "    res_test = clf.predict(X_test)\n",
        "    print(\"Test Result:\\n\")        \n",
        "    print(\"accuracy score: {0:.4f}\\n\".format(accuracy_score(y_test,res_test)))\n",
        "    print(\"Classification Report: \\n {}\\n\".format(classification_report(y_test,res_test)))\n",
        "    print(\"Confusion Matrix: \\n {}\\n\".format(confusion_matrix(y_test,res_test))) \n",
        "    plt.figure(i+1)\n",
        "    plt.title(\"{} test\".format(c), fontsize =20)\n",
        "    sns.heatmap(confusion_matrix(y_test, res_test), annot=True,cmap=\"YlGnBu\")\n",
        "    print(\"ROC AUC: {0:.4f}\\n\".format(roc_auc_score(lb.transform(y_test),lb.transform(res_test))))"
      ],
      "execution_count": 11,
      "outputs": []
    },
    {
      "cell_type": "markdown",
      "metadata": {
        "id": "4Ubkc9c2r1di"
      },
      "source": [
        "# Train your model"
      ]
    },
    {
      "cell_type": "code",
      "metadata": {
        "id": "RLunAxOtr1di"
      },
      "source": [
        "# from sklearn.tree import DecisionTreeClassifier\n",
        "# DTClassifier= DecisionTreeClassifier(criterion='entropy', random_state=0)\n",
        "# DTClassifier.fit(X_train,y_train)"
      ],
      "execution_count": 12,
      "outputs": []
    },
    {
      "cell_type": "code",
      "metadata": {
        "id": "Gwh1lf_xr1dj"
      },
      "source": [
        "clf={}\n",
        "# clf[\"svc\"]=SVC(kernel='poly')\n",
        "clf[\"DT\"]=DecisionTreeClassifier(criterion = \"gini\",random_state = 100,max_depth=5, min_samples_leaf=5) \n",
        "clf[\"knn\"]=KNeighborsClassifier(n_neighbors=5,p=2, metric='minkowski')\n",
        "clf[\"RF\"]=RandomForestClassifier(n_estimators=200,random_state=100,max_depth=5,max_features='auto')\n",
        "clf[\"AD\"]=AdaBoostClassifier(n_estimators=200,random_state = 100)\n",
        "clf[\"GB\"]=GradientBoostingClassifier(n_estimators=200,random_state = 100,max_features=\"auto\")\n",
        "clf[\"xgb\"]=xgb.XGBClassifier(learning_rate=0.1,n_estimators=200,objective='binary:logistic',nthread= 4,n_jobs= 4,base_score= 0.6)\n",
        "clf[\"AD_RF\"]=AdaBoostClassifier(base_estimator=clf[\"RF\"],n_estimators=200,random_state = 100)\n",
        "clf[\"BAGG\"]=BaggingClassifier(base_estimator=clf[\"DT\"], n_estimators=1000, bootstrap=True, oob_score=True,n_jobs=-1, random_state=100)\n",
        "clf[\"St\"]=StackingClassifier(estimators=[('DT',clf[\"DT\"] ),('RFC', clf[\"RF\"])],final_estimator=LogisticRegression())"
      ],
      "execution_count": 13,
      "outputs": []
    },
    {
      "cell_type": "code",
      "metadata": {
        "id": "Ej0lnYTar1dj"
      },
      "source": [
        "# import seaborn as sns\n",
        "# print(x_train.shape)\n",
        "# print(x_test.shape)\n",
        "# print(y_train.shape)\n",
        "# print(y_test.shape)\n",
        "# j=0\n",
        "# for i in clf:\n",
        "#     print(\"c:\",i)\n",
        "#     clf[i].fit(x_train,y_train)\n",
        "#     print_score(clf[i], x_train, x_test, y_train, y_test,i,j)\n",
        "#     j+=2\n",
        "  "
      ],
      "execution_count": 14,
      "outputs": []
    },
    {
      "cell_type": "markdown",
      "metadata": {
        "id": "FcC9amo8IHfi"
      },
      "source": [
        "## **Got the highest accuracy with 87.61% on the training data**"
      ]
    },
    {
      "cell_type": "code",
      "metadata": {
        "id": "faCJMuU6r1dk"
      },
      "source": [
        "gb=GradientBoostingClassifier(n_estimators=200,random_state = 100,max_features=\"auto\")\n",
        "gb.fit(x_train,y_train)\n",
        "y_pred=gb.predict(x_test)"
      ],
      "execution_count": 15,
      "outputs": []
    },
    {
      "cell_type": "code",
      "metadata": {
        "colab": {
          "base_uri": "https://localhost:8080/"
        },
        "id": "JGmEkqD7vjnp",
        "outputId": "32e9146e-6868-4e5c-a7dc-0f0621f1f16a"
      },
      "source": [
        "from sklearn.metrics import roc_auc_score\n",
        "auc = roc_auc_score(y_pred, y_test)\n",
        "print('ROC AUC: %f' % auc)"
      ],
      "execution_count": 16,
      "outputs": [
        {
          "output_type": "stream",
          "text": [
            "ROC AUC: 0.902337\n"
          ],
          "name": "stdout"
        }
      ]
    },
    {
      "cell_type": "markdown",
      "metadata": {
        "id": "mH5Fpm-bZZUf"
      },
      "source": [
        "## Stacking Classifier"
      ]
    },
    {
      "cell_type": "code",
      "metadata": {
        "id": "nM368q5ZZRX2"
      },
      "source": [
        "st=AdaBoostClassifier(base_estimator=clf[\"RF\"],n_estimators=200,random_state = 100)\n",
        "st.fit(x_train,y_train)\n",
        "y_pred=st.predict(x_test)"
      ],
      "execution_count": 23,
      "outputs": []
    },
    {
      "cell_type": "code",
      "metadata": {
        "colab": {
          "base_uri": "https://localhost:8080/"
        },
        "id": "qySWuzOeZqaY",
        "outputId": "32a89710-d183-4f40-f505-b0bc81afcad4"
      },
      "source": [
        "from sklearn.metrics import roc_auc_score\n",
        "auc = roc_auc_score(y_pred, y_test)\n",
        "print('ROC AUC: %f' % auc)"
      ],
      "execution_count": 24,
      "outputs": [
        {
          "output_type": "stream",
          "text": [
            "ROC AUC: 0.926844\n"
          ],
          "name": "stdout"
        }
      ]
    },
    {
      "cell_type": "markdown",
      "metadata": {
        "id": "FGhRtQOBr1dl"
      },
      "source": [
        "# Test model with gradient boosting algorithm and apply it in test data and predicting the values for the given data."
      ]
    },
    {
      "cell_type": "code",
      "metadata": {
        "colab": {
          "base_uri": "https://localhost:8080/"
        },
        "id": "aA3CSpMAJ89p",
        "outputId": "34593a60-e961-46ee-ca85-eb7ae4069531"
      },
      "source": [
        "X_train=train_data.drop(\"risk_flag\",axis=1)\n",
        "y_train=train_data[\"risk_flag\"]\n",
        "X_test=test_data.drop(\"risk_flag\",axis=1)\n",
        "y_test=test_data[\"risk_flag\"]\n",
        "print(train_data)"
      ],
      "execution_count": 25,
      "outputs": [
        {
          "output_type": "stream",
          "text": [
            "            Id   income  age  ...  current_job_years  current_house_years  risk_flag\n",
            "0            1  1303835   23  ...                  3                   13          0\n",
            "1            2  7574516   40  ...                  9                   13          0\n",
            "2            3  3991815   66  ...                  4                   10          0\n",
            "3            4  6256451   41  ...                  2                   12          1\n",
            "4            5  5768871   47  ...                  3                   14          1\n",
            "...        ...      ...  ...  ...                ...                  ...        ...\n",
            "251995  251996  8154883   43  ...                  6                   11          0\n",
            "251996  251997  2843572   26  ...                  6                   11          0\n",
            "251997  251998  4522448   46  ...                  7                   12          0\n",
            "251998  251999  6507128   45  ...                  0                   10          0\n",
            "251999  252000  9070230   70  ...                  7                   11          0\n",
            "\n",
            "[252000 rows x 13 columns]\n"
          ],
          "name": "stdout"
        }
      ]
    },
    {
      "cell_type": "code",
      "metadata": {
        "id": "tE8uEvEbKBej"
      },
      "source": [
        "gb=AdaBoostClassifier(base_estimator=clf[\"RF\"],n_estimators=200,random_state = 100)\n",
        "gb.fit(X_train,y_train)\n",
        "y_pred=gb.predict(X_test)"
      ],
      "execution_count": 26,
      "outputs": []
    },
    {
      "cell_type": "code",
      "metadata": {
        "id": "NGbXTCXdr1dl"
      },
      "source": [
        "# y_pred=gb.predict(X_test)"
      ],
      "execution_count": null,
      "outputs": []
    },
    {
      "cell_type": "code",
      "metadata": {
        "colab": {
          "base_uri": "https://localhost:8080/"
        },
        "id": "8FuzyxS7r1dl",
        "outputId": "31fec903-3530-47f5-ec76-ba78fafbc141"
      },
      "source": [
        "y_pred\n",
        "risk_flag = np.array(y_pred)\n",
        "risk_flag"
      ],
      "execution_count": 27,
      "outputs": [
        {
          "output_type": "execute_result",
          "data": {
            "text/plain": [
              "array([0, 0, 0, ..., 0, 0, 0])"
            ]
          },
          "metadata": {
            "tags": []
          },
          "execution_count": 27
        }
      ]
    },
    {
      "cell_type": "code",
      "metadata": {
        "colab": {
          "base_uri": "https://localhost:8080/",
          "height": 206
        },
        "id": "wukJ0HEPr1dn",
        "outputId": "1aa372f2-88ef-4f90-e1c4-17c61662ab1b"
      },
      "source": [
        "df1=pd.DataFrame(y_pred)\n",
        "df2=pd.DataFrame(test_data[\"id\"])\n",
        "df2\n",
        "result = pd.concat([df2, df1], axis=1)\n",
        "dict = {'id': test_data[\"id\"], 'risk_flag': y_pred} \n",
        "df = pd.DataFrame(dict)\n",
        "df.head()\n",
        "# print(result.shape)\n",
        "# result.head(10)"
      ],
      "execution_count": 28,
      "outputs": [
        {
          "output_type": "execute_result",
          "data": {
            "text/html": [
              "<div>\n",
              "<style scoped>\n",
              "    .dataframe tbody tr th:only-of-type {\n",
              "        vertical-align: middle;\n",
              "    }\n",
              "\n",
              "    .dataframe tbody tr th {\n",
              "        vertical-align: top;\n",
              "    }\n",
              "\n",
              "    .dataframe thead th {\n",
              "        text-align: right;\n",
              "    }\n",
              "</style>\n",
              "<table border=\"1\" class=\"dataframe\">\n",
              "  <thead>\n",
              "    <tr style=\"text-align: right;\">\n",
              "      <th></th>\n",
              "      <th>id</th>\n",
              "      <th>risk_flag</th>\n",
              "    </tr>\n",
              "  </thead>\n",
              "  <tbody>\n",
              "    <tr>\n",
              "      <th>0</th>\n",
              "      <td>1</td>\n",
              "      <td>0</td>\n",
              "    </tr>\n",
              "    <tr>\n",
              "      <th>1</th>\n",
              "      <td>2</td>\n",
              "      <td>0</td>\n",
              "    </tr>\n",
              "    <tr>\n",
              "      <th>2</th>\n",
              "      <td>3</td>\n",
              "      <td>0</td>\n",
              "    </tr>\n",
              "    <tr>\n",
              "      <th>3</th>\n",
              "      <td>4</td>\n",
              "      <td>0</td>\n",
              "    </tr>\n",
              "    <tr>\n",
              "      <th>4</th>\n",
              "      <td>5</td>\n",
              "      <td>0</td>\n",
              "    </tr>\n",
              "  </tbody>\n",
              "</table>\n",
              "</div>"
            ],
            "text/plain": [
              "   id  risk_flag\n",
              "0   1          0\n",
              "1   2          0\n",
              "2   3          0\n",
              "3   4          0\n",
              "4   5          0"
            ]
          },
          "metadata": {
            "tags": []
          },
          "execution_count": 28
        }
      ]
    },
    {
      "cell_type": "code",
      "metadata": {
        "id": "f2H-QIzor1dn"
      },
      "source": [
        "df.to_csv('prediction.csv',index=False)"
      ],
      "execution_count": 29,
      "outputs": []
    },
    {
      "cell_type": "code",
      "metadata": {
        "id": "7PSKladTM74W"
      },
      "source": [
        ""
      ],
      "execution_count": null,
      "outputs": []
    }
  ]
}